{
 "cells": [
  {
   "cell_type": "code",
   "execution_count": 1,
   "id": "8dc77084",
   "metadata": {},
   "outputs": [],
   "source": [
    "import kfp\n",
    "import kfp.components as comp\n",
    "import requests\n",
    "import kfp.dsl as dsl"
   ]
  },
  {
   "cell_type": "code",
   "execution_count": 2,
   "id": "12b088db",
   "metadata": {},
   "outputs": [
    {
     "name": "stdout",
     "output_type": "stream",
     "text": [
      "Name: kfp\n",
      "Version: 1.8.18\n",
      "Summary: KubeFlow Pipelines SDK\n",
      "Home-page: https://github.com/kubeflow/pipelines\n",
      "Author: The Kubeflow Authors\n"
     ]
    }
   ],
   "source": [
    "!pip show kfp\n"
   ]
  },
  {
   "cell_type": "code",
   "execution_count": 3,
   "id": "854ceb28",
   "metadata": {},
   "outputs": [
    {
     "name": "stdout",
     "output_type": "stream",
     "text": [
      "\n",
      "Required-by: \n"
     ]
    }
   ],
   "source": [
    "def Prepare_data():\n",
    "    import pandas as pd\n",
    "    print('---Inside Prepre_data components--- ')\n",
    "    #Load Dataset\n",
    "    df = pd.read_csv(\"D:\\Battery_Model\\Battery_New.csv\")\n",
    "    df = df.dropna()\n",
    "    df.to_csv(f'data/final_df.csv',index=False)\n",
    "    print('\\n ---data csv is saved to PV location /data/final_df.csv---')"
   ]
  },
  {
   "cell_type": "code",
   "execution_count": 4,
   "id": "e82ac007",
   "metadata": {},
   "outputs": [],
   "source": [
    "def train_test_split():\n",
    "    import pandas as pd\n",
    "    import numpy as np\n",
    "    from sklearn.model_selection import train_test_split\n",
    "    print('--- Inside train_test_split component---')\n",
    "    final_data = pd.read_csv(f'data/final_df.csv')\n",
    "    target_column = \"Final_Time\"\n",
    "    X = final_data_loc[:, final_data.columns != target_column]\n",
    "    y = final_data_loc[:, final_data.columns == target_column]\n",
    "    X_train,X_test,y_train,y_test = train_test_split(X,y,test_size=0.2,startify = y,random_state=20)\n",
    "    \n",
    "    np.save(f'data/X_train.npy',X_train)\n",
    "    np.save(f'data/X_test.npy',X_test)\n",
    "    np.save(f'data/y_train.npy',y_train)\n",
    "    np.save(f'data/y_test.npy',y_test)\n",
    "    \n",
    "    print('\\n --- X_train ---')\n",
    "    print('\\n')\n",
    "    print(X_train)\n",
    "    \n",
    "    print('\\n --- X_test ---')\n",
    "    print('\\n')\n",
    "    print(X_test)\n",
    "    \n",
    "    print('\\n --- y_train ---')\n",
    "    print('\\n')\n",
    "    print(y_train)\n",
    "    \n",
    "    \n",
    "    print('\\n --- y_test---')\n",
    "    print('\\n')\n",
    "    print(y_test)"
   ]
  },
  {
   "cell_type": "code",
   "execution_count": 5,
   "id": "3ab041b5",
   "metadata": {},
   "outputs": [],
   "source": [
    "def training_basic_Classifier():\n",
    "    import pandas as pd\n",
    "    import numpy as np\n",
    "    from sklearn.linear_model import LogisticRegression\n",
    "    print(\"--- Inside training_basic_classifier component ---\")\n",
    "    \n",
    "    X_train = np.load(f'data/X_train.npy', allow_pickle =True)\n",
    "    y_train = np.load(f'data/y_train.npy', allow_pickle =True)\n",
    "    \n",
    "    \n",
    "    classifier= LogisticRegression(max_iter=500)\n",
    "    classifier.fit(X_train,y_train)\n",
    "    \n",
    "    import pickle\n",
    "    with open(f'data/model.pkl', 'wb') as f:\n",
    "        pickle.dump(classifier,f)\n",
    "        print(\"\\n logistic regression classifier is trained on Battery_Model data and saved to PV location/data/model.pkl ---\")\n",
    "    "
   ]
  },
  {
   "cell_type": "code",
   "execution_count": 6,
   "id": "e7f46392",
   "metadata": {},
   "outputs": [],
   "source": [
    "def predict_on_test_data():\n",
    "    import pandas as pd\n",
    "    import numpy as np\n",
    "    import pickle\n",
    "    \n",
    "    print('--- Inside predict_on_test_data component ---')\n",
    "    \n",
    "    with open('fdata/model.pkl', 'rb') as f:\n",
    "        logistic_reg_model = pickle_load(f)\n",
    "        X_test = np.load(f'data/X_test.npy', allow_pickle =True)\n",
    "        y_pred = logistic_reg_model.predict(X_test)\n",
    "        np.save(f'data/y_pred.npy',y_pred)\n",
    "        print('\\n --- predicted classes ---')\n",
    "        print('\\n')\n",
    "        print(y_pred)"
   ]
  },
  {
   "cell_type": "code",
   "execution_count": 7,
   "id": "ceed3bf0",
   "metadata": {},
   "outputs": [],
   "source": [
    "def predict_prob_on_test_data():\n",
    "    import pandas as pd\n",
    "    import numpy as np\n",
    "    import pickle\n",
    "    \n",
    "    print('--- Inside predict_prob_on_test_data component ---')\n",
    "    \n",
    "    with open('fdata/model.pkl', 'rb') as f:\n",
    "        logistic_reg_model = pickle_load(f)\n",
    "        X_test = np.load(f'data/X_test.npy', allow_pickle =True)\n",
    "        y_pred_prob = logistic_reg_model.predict_prob(X_test)\n",
    "        np.save(f'data/y_pred_prob.npy',y_pred_prob)\n",
    "        print('\\n --- predicted Probabilities ---')\n",
    "        print('\\n')\n",
    "        print(y_pred_prob)\n",
    "    "
   ]
  },
  {
   "cell_type": "code",
   "execution_count": 8,
   "id": "59838038",
   "metadata": {},
   "outputs": [],
   "source": [
    "def get_metrics():\n",
    "    import pandas as pd\n",
    "    import numpy as np\n",
    "    import pickle\n",
    "    from sklearn.metrics import accuracy_score,precision_score,recall_score,log_loss\n",
    "    from sklearn import metrics\n",
    "    print('--- Inside get_metrics component ---')\n",
    "    \n",
    "    y_test = np.load(f'data/y_test.npy',allow_pickle =True)\n",
    "    y_pred = np.load(f'data/y_pred_prob.npy',allow_pickle =True)\n",
    "    \n",
    "    acc  = accuracy_score(y_test,y_pred)\n",
    "    prec = precision_score(y_test,y_pred,average = 'micro')\n",
    "    recall   = recall_score(y_test,y_pred,average = 'micro')\n",
    "    entropy  = log_loss(y_test,y_pred_prob)\n",
    "\n",
    "    y_test       = np.load(f'data/y_test.npy',allow_pickle =True)\n",
    "\n",
    "    y_pred        = np.load(f'data/y_pred.npy', allow_pickle =True)\n",
    "\n",
    "    print(metrics.classification_report(y_test,y_pred))\n",
    "\n",
    "    print(\"\\n Model Metrics :\", {'accuracy': round(acc,2),'precision': round(prec,2),'recall': round(recall,2),'entropy': round(entropy,2)})\n",
    "\n"
   ]
  },
  {
   "cell_type": "code",
   "execution_count": 9,
   "id": "d8412d7c",
   "metadata": {},
   "outputs": [
    {
     "name": "stdout",
     "output_type": "stream",
     "text": [
      "Python 3.9.13\n"
     ]
    }
   ],
   "source": [
    "!python --version"
   ]
  },
  {
   "cell_type": "code",
   "execution_count": 10,
   "id": "5eb00813",
   "metadata": {},
   "outputs": [
    {
     "data": {
      "text/plain": [
       "'1.4.4'"
      ]
     },
     "execution_count": 10,
     "metadata": {},
     "output_type": "execute_result"
    }
   ],
   "source": [
    "import pandas as pd\n",
    "pd.__version__"
   ]
  },
  {
   "cell_type": "code",
   "execution_count": 11,
   "id": "f2001b65",
   "metadata": {},
   "outputs": [
    {
     "name": "stdout",
     "output_type": "stream",
     "text": [
      "1.21.5\n"
     ]
    }
   ],
   "source": [
    "import numpy as np\n",
    "print(np.__version__)"
   ]
  },
  {
   "cell_type": "code",
   "execution_count": 12,
   "id": "4b2846ee",
   "metadata": {},
   "outputs": [
    {
     "name": "stdout",
     "output_type": "stream",
     "text": [
      "1.0.2\n"
     ]
    }
   ],
   "source": [
    "import sklearn\n",
    "print(sklearn.__version__)"
   ]
  },
  {
   "cell_type": "code",
   "execution_count": 13,
   "id": "7edd7427",
   "metadata": {},
   "outputs": [],
   "source": [
    "create_step_Prepare_data = kfp.components.create_component_from_func(\n",
    "    func = Prepare_data,\n",
    "    base_image ='python:3.9.13',\n",
    "    packages_to_install=['pandas==1.4.4','numpy==1.21.5']\n",
    ")"
   ]
  },
  {
   "cell_type": "code",
   "execution_count": 14,
   "id": "ab41c1cf",
   "metadata": {},
   "outputs": [],
   "source": [
    "create_step_train_test_split = kfp.components.create_component_from_func(\n",
    "    func = train_test_split,\n",
    "    base_image ='python:3.9.13',\n",
    "    packages_to_install=['pandas==1.4.4','numpy==1.21.5','scikit-learn==1.0.2']\n",
    ")"
   ]
  },
  {
   "cell_type": "code",
   "execution_count": 15,
   "id": "ea30ef1b",
   "metadata": {},
   "outputs": [],
   "source": [
    "create_step_training_basic_Classifier = kfp.components.create_component_from_func(\n",
    "    func = training_basic_Classifier,\n",
    "    base_image ='python:3.9.13',\n",
    "    packages_to_install=['pandas==1.4.4','numpy==1.21.5','scikit-learn==1.0.2']\n",
    ")"
   ]
  },
  {
   "cell_type": "code",
   "execution_count": 16,
   "id": "e1903deb",
   "metadata": {},
   "outputs": [],
   "source": [
    "create_step_predict_on_test_data = kfp.components.create_component_from_func(\n",
    "    func = predict_on_test_data,\n",
    "    base_image ='python:3.9.13',\n",
    "    packages_to_install=['pandas==1.4.4','numpy==1.21.5','scikit-learn==1.0.2']\n",
    ")"
   ]
  },
  {
   "cell_type": "code",
   "execution_count": 17,
   "id": "19eb541d",
   "metadata": {},
   "outputs": [],
   "source": [
    "create_step_predict_prob_on_test_data = kfp.components.create_component_from_func(\n",
    "    func =predict_prob_on_test_data,\n",
    "    base_image ='python:3.9.13',\n",
    "    packages_to_install=['pandas==1.4.4','numpy==1.21.5','scikit-learn==1.0.2']\n",
    ")"
   ]
  },
  {
   "cell_type": "code",
   "execution_count": 18,
   "id": "543fd013",
   "metadata": {},
   "outputs": [],
   "source": [
    "create_step_get_metrics = kfp.components.create_component_from_func(\n",
    "    func =get_metrics,\n",
    "    base_image ='python:3.9.13',\n",
    "    packages_to_install=['pandas==1.4.4','numpy==1.21.5','scikit-learn==1.0.2']\n",
    ")"
   ]
  },
  {
   "cell_type": "code",
   "execution_count": 19,
   "id": "239e4475",
   "metadata": {},
   "outputs": [],
   "source": [
    "@dsl.pipeline(\n",
    "    name='battery_model on kubeflow pipeline',\n",
    "    description = 'A simple pipeline that performs the Battery_Model task'\n",
    ")\n",
    "# Define Parameters feed into the pipeline\n",
    "def Battery_Model_pipeline(data_path: str):\n",
    "    vop = dsl.VolumeOp(\n",
    "   name = \"t-vol\",\n",
    "resource_name=\"t-vol\",    \n",
    "   size =\"100Gi\",\n",
    " modes  = dsl.VOLUME_MODE_RWO)\n",
    "    \n",
    "    \n",
    "    \n",
    "    \n",
    "    Prepare_data = create_step_Prepare_data().add_pvolumes({data_path: vop.volume})\n",
    "    train_test_split  = create_step_train_test_split().add_pvolumes({data_path: vop.volume}).after(Prepare_data)\n",
    "    classifier_training= create_step_training_basic_Classifier().add_pvolumes({data_path: vop.volume}).after(train_test_split)\n",
    "    log_predicted_class = create_step_predict_on_test_data().add_pvolumes({data_path: vop.volume}).after(classifier_training)\n",
    "    log_predicted_probabilities= create_step_predict_prob_on_test_data().add_pvolumes({data_path: vop.volume}).after(log_predicted_class)\n",
    "    log_metrics_task =create_step_get_metrics().add_pvolumes({data_path: vop.volume}).after(log_predicted_probabilities)\n",
    "    \n"
   ]
  },
  {
   "cell_type": "code",
   "execution_count": 20,
   "id": "67f8e2cd",
   "metadata": {},
   "outputs": [],
   "source": [
    "kfp.compiler.Compiler().compile(\n",
    "    pipeline_func = Battery_Model_pipeline,\n",
    "    package_path  = 'Battery_Model_pipeline.yaml')"
   ]
  },
  {
   "cell_type": "code",
   "execution_count": null,
   "id": "d2f64765",
   "metadata": {},
   "outputs": [],
   "source": []
  }
 ],
 "metadata": {
  "kernelspec": {
   "display_name": "Python 3 (ipykernel)",
   "language": "python",
   "name": "python3"
  },
  "language_info": {
   "codemirror_mode": {
    "name": "ipython",
    "version": 3
   },
   "file_extension": ".py",
   "mimetype": "text/x-python",
   "name": "python",
   "nbconvert_exporter": "python",
   "pygments_lexer": "ipython3",
   "version": "3.9.13"
  }
 },
 "nbformat": 4,
 "nbformat_minor": 5
}
